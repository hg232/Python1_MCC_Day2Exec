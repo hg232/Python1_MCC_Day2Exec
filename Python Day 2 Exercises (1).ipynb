{
 "cells": [
  {
   "cell_type": "markdown",
   "metadata": {},
   "source": [
    "Ask for a color and store that answer\n",
    "If the answer is grey then print out you found Victor's favorite color.\n",
    "Otherwise print out the color is not Victor's favorite color."
   ]
  },
  {
   "cell_type": "code",
   "execution_count": 3,
   "metadata": {},
   "outputs": [
    {
     "name": "stdout",
     "output_type": "stream",
     "text": [
      "Give me a color?grey\n",
      "you found Victor's favorite color \n"
     ]
    }
   ],
   "source": [
    "color = input(\"Give me a color?\")\n",
    "\n",
    "if color == \"grey\":\n",
    "    print(\"you found Victor's favorite color \")\n",
    "else:\n",
    "    print(\"color is not Victor's favorite color \")"
   ]
  },
  {
   "cell_type": "markdown",
   "metadata": {},
   "source": [
    "Now with the code before add in more conditions for other colors such as red, green, blue and write statements for them. "
   ]
  },
  {
   "cell_type": "code",
   "execution_count": 5,
   "metadata": {},
   "outputs": [
    {
     "name": "stdout",
     "output_type": "stream",
     "text": [
      "Give me a color?red\n",
      "nope, not the fav color\n"
     ]
    }
   ],
   "source": [
    "color = input(\"Give me a color?\")\n",
    "\n",
    "if color == \"grey\":\n",
    "    print(\"you found Victor's favorite color \")\n",
    "elif color == \"red\":\n",
    "    print(\"nope, not the fav color\")\n",
    "elif color == \"green\":\n",
    "    print(\"wrong again\")\n",
    "else:\n",
    "    print(\"color is not Victor's favorite color \")"
   ]
  },
  {
   "cell_type": "markdown",
   "metadata": {},
   "source": [
    "Ask for an exam score and store that number\n",
    "If the number is greater than 100\n",
    "print out you cannot have an exam score higher than 100.\n",
    "if the number doesn't exceeed 100 but is greater than 75\n",
    "print out you did great on your exam!\n",
    "otherwise if they scored lower than 75\n",
    "print out that they need to study harder."
   ]
  },
  {
   "cell_type": "code",
   "execution_count": 21,
   "metadata": {},
   "outputs": [
    {
     "name": "stdout",
     "output_type": "stream",
     "text": [
      "Input the score50\n",
      "study harder!\n"
     ]
    }
   ],
   "source": [
    "score = int(input(\"Input the score \"))\n",
    "\n",
    "def hundred_plus():\n",
    "    print(\"You cannot have an exam score higher than 100.\")\n",
    "def fail():\n",
    "    print(\"study harder!\")\n",
    "    \n",
    "if score > 100: \n",
    "    hundred_plus()\n",
    "elif score < 75 :\n",
    "    fail()\n",
    "else: \n",
    "    print(\"you did great on your exam.\")\n",
    "\n"
   ]
  },
  {
   "cell_type": "markdown",
   "metadata": {},
   "source": [
    "Define a function that takes in 3 numbers and adds them together\n",
    "Define a function that takes in 2 numbers and multiplies them\n",
    "Tell the user to choose option 1 to add three numbers or to choose option 2 to mutiply two numbers.\n",
    "If they choose 1 then use the first function otherwise if they choose 2 then use the second function. "
   ]
  },
  {
   "cell_type": "code",
   "execution_count": null,
   "metadata": {},
   "outputs": [],
   "source": []
  },
  {
   "cell_type": "markdown",
   "metadata": {},
   "source": [
    "Make a loop go from 50 to 100 and print every iteration"
   ]
  },
  {
   "cell_type": "code",
   "execution_count": 11,
   "metadata": {},
   "outputs": [
    {
     "name": "stdout",
     "output_type": "stream",
     "text": [
      "50 51 52 53 54 55 56 57 58 59 60 61 62 63 64 65 66 67 68 69 70 71 72 73 74 75 76 77 78 79 80 81 82 83 84 85 86 87 88 89 90 91 92 93 94 95 96 97 98 99 "
     ]
    }
   ],
   "source": [
    "for i in range(50,100):\n",
    "    print(i, end = \" \")  \n"
   ]
  },
  {
   "cell_type": "markdown",
   "metadata": {},
   "source": [
    "Make an empty list and call it names"
   ]
  },
  {
   "cell_type": "code",
   "execution_count": 12,
   "metadata": {},
   "outputs": [
    {
     "name": "stdout",
     "output_type": "stream",
     "text": [
      "[]\n"
     ]
    }
   ],
   "source": [
    "names = []\n",
    "print(names)"
   ]
  },
  {
   "cell_type": "markdown",
   "metadata": {},
   "source": [
    "Make names filled with names of 5 people (Hannah, Victor, Sam, James, John)"
   ]
  },
  {
   "cell_type": "code",
   "execution_count": 14,
   "metadata": {},
   "outputs": [
    {
     "name": "stdout",
     "output_type": "stream",
     "text": [
      "['Hannah', 'Victor', 'Sam', 'James', 'John']\n"
     ]
    }
   ],
   "source": [
    "names = [\"Hannah\", \"Victor\", \"Sam\", \"James\", \"John\"]\n",
    "print(names)"
   ]
  },
  {
   "cell_type": "markdown",
   "metadata": {},
   "source": [
    "Make names sorted in reverse. Print out the list using a for-enchanced loop"
   ]
  },
  {
   "cell_type": "code",
   "execution_count": 24,
   "metadata": {},
   "outputs": [
    {
     "name": "stdout",
     "output_type": "stream",
     "text": [
      "['Victor', 'Sam', 'John', 'James', 'Hannah']\n",
      "['Victor', 'Sam', 'John', 'James', 'Hannah']\n",
      "['Victor', 'Sam', 'John', 'James', 'Hannah']\n",
      "['Victor', 'Sam', 'John', 'James', 'Hannah']\n",
      "['Victor', 'Sam', 'John', 'James', 'Hannah']\n"
     ]
    }
   ],
   "source": [
    "reverse = sorted(names, reverse = True)\n",
    "\n",
    "for i in reverse: \n",
    "    print(reverse)"
   ]
  },
  {
   "cell_type": "markdown",
   "metadata": {},
   "source": [
    "Make names sorted alphabetically. Print out the list using regular for loop"
   ]
  },
  {
   "cell_type": "code",
   "execution_count": 26,
   "metadata": {},
   "outputs": [
    {
     "name": "stdout",
     "output_type": "stream",
     "text": [
      "['Hannah', 'James', 'John', 'Sam', 'Victor']\n"
     ]
    }
   ],
   "source": [
    "alpha = sorted(names)\n",
    "print(alpha)"
   ]
  },
  {
   "cell_type": "markdown",
   "metadata": {},
   "source": [
    "Pull out the fourth item from names and print it out"
   ]
  },
  {
   "cell_type": "code",
   "execution_count": 33,
   "metadata": {},
   "outputs": [
    {
     "name": "stdout",
     "output_type": "stream",
     "text": [
      "Sam\n"
     ]
    }
   ],
   "source": [
    "print(names[3])"
   ]
  },
  {
   "cell_type": "markdown",
   "metadata": {},
   "source": [
    "Pull out the first item from names and print it out"
   ]
  },
  {
   "cell_type": "code",
   "execution_count": null,
   "metadata": {},
   "outputs": [],
   "source": [
    "print(names[0])"
   ]
  },
  {
   "cell_type": "markdown",
   "metadata": {},
   "source": [
    "Make an empty list called words and add each word into the list using the append function. The words are (Hello, Python,Class, Friends, Online, Jupyter).\n",
    "Print out the list using a for-enchanced loop"
   ]
  },
  {
   "cell_type": "code",
   "execution_count": 41,
   "metadata": {},
   "outputs": [
    {
     "name": "stdout",
     "output_type": "stream",
     "text": [
      "['hello', 'python', 'class', 'friends', 'online', 'jupyter']\n",
      "['hello', 'python', 'class', 'friends', 'online', 'jupyter']\n",
      "['hello', 'python', 'class', 'friends', 'online', 'jupyter']\n",
      "['hello', 'python', 'class', 'friends', 'online', 'jupyter']\n",
      "['hello', 'python', 'class', 'friends', 'online', 'jupyter']\n",
      "['hello', 'python', 'class', 'friends', 'online', 'jupyter']\n"
     ]
    }
   ],
   "source": [
    "word = []\n",
    "word.append('hello')\n",
    "word.append('python')\n",
    "word.append('class')\n",
    "word.append('friends')\n",
    "word.append('online')\n",
    "word.append('jupyter')\n",
    "\n",
    "for i in word: \n",
    "    print(word)"
   ]
  },
  {
   "cell_type": "markdown",
   "metadata": {},
   "source": [
    "Make words lose it's last word and print out the new list."
   ]
  },
  {
   "cell_type": "code",
   "execution_count": 48,
   "metadata": {},
   "outputs": [
    {
     "data": {
      "text/plain": [
       "'online'"
      ]
     },
     "execution_count": 48,
     "metadata": {},
     "output_type": "execute_result"
    }
   ],
   "source": [
    "word.pop()\n"
   ]
  },
  {
   "cell_type": "markdown",
   "metadata": {},
   "source": [
    "Make a variable named fruits that contains a string \"Apples Oranges Bananas Pineapples Persimmons Dragonfruit\" and make it into a list splitting it by the spaces."
   ]
  },
  {
   "cell_type": "code",
   "execution_count": 52,
   "metadata": {},
   "outputs": [
    {
     "name": "stdout",
     "output_type": "stream",
     "text": [
      "['Apples', 'Oranges', 'Bananas', 'Pineapples', 'Persimmons', 'Dragonfruit']\n"
     ]
    }
   ],
   "source": [
    "fruits = (\"Apples Oranges Bananas Pineapples Persimmons Dragonfruit\")\n",
    "lst = fruits.split(' ')\n",
    "print(lst)"
   ]
  },
  {
   "cell_type": "markdown",
   "metadata": {},
   "source": [
    "Make a variable named fruits that contains a string \"Apples,Oranges,Bananas,Pineapples,Persimmons,Dragonfruit\" and make it into a list splitting it by the commas."
   ]
  },
  {
   "cell_type": "code",
   "execution_count": 53,
   "metadata": {},
   "outputs": [
    {
     "name": "stdout",
     "output_type": "stream",
     "text": [
      "['Apples Oranges Bananas Pineapples Persimmons Dragonfruit']\n"
     ]
    }
   ],
   "source": [
    "fruits2 = (\"Apples Oranges Bananas Pineapples Persimmons Dragonfruit\")\n",
    "lst = fruits2.split(',')\n",
    "print(lst)"
   ]
  },
  {
   "cell_type": "code",
   "execution_count": null,
   "metadata": {},
   "outputs": [],
   "source": []
  }
 ],
 "metadata": {
  "kernelspec": {
   "display_name": "Python 3",
   "language": "python",
   "name": "python3"
  },
  "language_info": {
   "codemirror_mode": {
    "name": "ipython",
    "version": 3
   },
   "file_extension": ".py",
   "mimetype": "text/x-python",
   "name": "python",
   "nbconvert_exporter": "python",
   "pygments_lexer": "ipython3",
   "version": "3.7.6"
  }
 },
 "nbformat": 4,
 "nbformat_minor": 4
}
